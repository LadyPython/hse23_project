{
  "nbformat": 4,
  "nbformat_minor": 0,
  "metadata": {
    "colab": {
      "provenance": [],
      "include_colab_link": true
    },
    "kernelspec": {
      "name": "python3",
      "display_name": "Python 3"
    },
    "language_info": {
      "name": "python"
    }
  },
  "cells": [
    {
      "cell_type": "markdown",
      "metadata": {
        "id": "view-in-github",
        "colab_type": "text"
      },
      "source": [
        "<a href=\"https://colab.research.google.com/github/LadyPython/hse23_project/blob/main/hse32_project.ipynb\" target=\"_parent\"><img src=\"https://colab.research.google.com/assets/colab-badge.svg\" alt=\"Open In Colab\"/></a>"
      ]
    },
    {
      "cell_type": "markdown",
      "source": [
        "# Считаем E-value"
      ],
      "metadata": {
        "id": "C3w-exvbmLEP"
      }
    },
    {
      "cell_type": "code",
      "execution_count": 1,
      "metadata": {
        "colab": {
          "base_uri": "https://localhost:8080/"
        },
        "id": "Kmyuwg4tHZ2T",
        "outputId": "ed0c4896-c75c-4fe6-d34e-cc8031ce6429"
      },
      "outputs": [
        {
          "output_type": "stream",
          "name": "stdout",
          "text": [
            "\r0% [Working]\r            \rHit:1 http://archive.ubuntu.com/ubuntu focal InRelease\n",
            "\r0% [Waiting for headers] [Connected to cloud.r-project.org (52.85.151.93)] [Con\r                                                                               \rGet:2 http://archive.ubuntu.com/ubuntu focal-updates InRelease [114 kB]\n",
            "\r                                                                               \rGet:3 http://security.ubuntu.com/ubuntu focal-security InRelease [114 kB]\n",
            "\r                                                                               \rGet:4 https://cloud.r-project.org/bin/linux/ubuntu focal-cran40/ InRelease [3,622 B]\n",
            "\r0% [2 InRelease 95.3 kB/114 kB 84%] [Connecting to ppa.launchpad.net (185.125.1\r0% [Waiting for headers] [Connecting to ppa.launchpad.net (185.125.190.52)] [Wa\r                                                                               \rGet:5 http://archive.ubuntu.com/ubuntu focal-backports InRelease [108 kB]\n",
            "Hit:6 https://developer.download.nvidia.com/compute/cuda/repos/ubuntu2004/x86_64  InRelease\n",
            "Hit:7 http://ppa.launchpad.net/c2d4u.team/c2d4u4.0+/ubuntu focal InRelease\n",
            "Hit:8 http://ppa.launchpad.net/cran/libgit2/ubuntu focal InRelease\n",
            "Get:9 http://security.ubuntu.com/ubuntu focal-security/restricted amd64 Packages [2,274 kB]\n",
            "Get:10 http://security.ubuntu.com/ubuntu focal-security/universe amd64 Packages [1,053 kB]\n",
            "Get:11 http://security.ubuntu.com/ubuntu focal-security/main amd64 Packages [2,731 kB]\n",
            "Hit:12 http://ppa.launchpad.net/deadsnakes/ppa/ubuntu focal InRelease\n",
            "Get:13 http://archive.ubuntu.com/ubuntu focal-updates/main amd64 Packages [3,209 kB]\n",
            "Hit:14 http://ppa.launchpad.net/graphics-drivers/ppa/ubuntu focal InRelease\n",
            "Get:15 http://archive.ubuntu.com/ubuntu focal-updates/restricted amd64 Packages [2,412 kB]\n",
            "Get:16 http://archive.ubuntu.com/ubuntu focal-updates/universe amd64 Packages [1,348 kB]\n",
            "Hit:17 http://ppa.launchpad.net/ubuntugis/ppa/ubuntu focal InRelease\n",
            "Fetched 13.4 MB in 2s (7,214 kB/s)\n",
            "Reading package lists... Done\n"
          ]
        }
      ],
      "source": [
        "!apt-get update"
      ]
    },
    {
      "cell_type": "code",
      "source": [
        "!apt-get install ncbi-blast+"
      ],
      "metadata": {
        "colab": {
          "base_uri": "https://localhost:8080/"
        },
        "id": "Ar_RpB_qHeNq",
        "outputId": "d427feac-ef1b-4336-c1f6-30b1666a6841"
      },
      "execution_count": 2,
      "outputs": [
        {
          "output_type": "stream",
          "name": "stdout",
          "text": [
            "Reading package lists... Done\n",
            "Building dependency tree       \n",
            "Reading state information... Done\n",
            "The following additional packages will be installed:\n",
            "  ncbi-data\n",
            "The following NEW packages will be installed:\n",
            "  ncbi-blast+ ncbi-data\n",
            "0 upgraded, 2 newly installed, 0 to remove and 38 not upgraded.\n",
            "Need to get 14.6 MB of archives.\n",
            "After this operation, 74.2 MB of additional disk space will be used.\n",
            "Get:1 http://archive.ubuntu.com/ubuntu focal/universe amd64 ncbi-data all 6.1.20170106+dfsg1-8 [3,518 kB]\n",
            "Get:2 http://archive.ubuntu.com/ubuntu focal/universe amd64 ncbi-blast+ amd64 2.9.0-2 [11.1 MB]\n",
            "Fetched 14.6 MB in 0s (37.7 MB/s)\n",
            "Selecting previously unselected package ncbi-data.\n",
            "(Reading database ... 122545 files and directories currently installed.)\n",
            "Preparing to unpack .../ncbi-data_6.1.20170106+dfsg1-8_all.deb ...\n",
            "Unpacking ncbi-data (6.1.20170106+dfsg1-8) ...\n",
            "Selecting previously unselected package ncbi-blast+.\n",
            "Preparing to unpack .../ncbi-blast+_2.9.0-2_amd64.deb ...\n",
            "Unpacking ncbi-blast+ (2.9.0-2) ...\n",
            "Setting up ncbi-data (6.1.20170106+dfsg1-8) ...\n",
            "Setting up ncbi-blast+ (2.9.0-2) ...\n",
            "Processing triggers for man-db (2.9.1-1) ...\n",
            "Processing triggers for hicolor-icon-theme (0.17-2) ...\n"
          ]
        }
      ]
    },
    {
      "cell_type": "code",
      "source": [
        "!makeblastdb  -dbtype prot  -in c.elegans.faa  -out c.elegans.proteins\n",
        "!makeblastdb  -dbtype prot  -in ciliate.faa  -out ciliate.proteins\n",
        "!makeblastdb  -dbtype prot  -in drosophila.faa  -out drosophila.proteins\n",
        "!makeblastdb  -dbtype prot  -in e.coli.faa  -out e.coli.proteins\n",
        "!makeblastdb  -dbtype prot  -in human.faa  -out human.proteins\n",
        "!makeblastdb  -dbtype prot  -in methanocaldococcus.faa  -out methanocaldococcus.proteins\n",
        "!makeblastdb  -dbtype prot  -in mouse.faa  -out mouse.proteins\n",
        "!makeblastdb  -dbtype prot  -in thermococcus.faa  -out thermococcus.proteins\n",
        "!makeblastdb  -dbtype prot  -in tuberculosis.faa  -out tuberculosis.proteins\n",
        "!makeblastdb  -dbtype prot  -in yeast.faa  -out yeast.proteins\n",
        "!makeblastdb  -dbtype prot  -in zebrafish.faa  -out zebrafish.proteins"
      ],
      "metadata": {
        "colab": {
          "base_uri": "https://localhost:8080/"
        },
        "id": "LmRUPXqLI7oC",
        "outputId": "d7332fa7-bdce-4861-88d5-f44ea1f5bea1"
      },
      "execution_count": 3,
      "outputs": [
        {
          "output_type": "stream",
          "name": "stdout",
          "text": [
            "\n",
            "\n",
            "Building a new DB, current time: 05/30/2023 21:18:35\n",
            "New DB name:   /content/c.elegans.proteins\n",
            "New DB title:  c.elegans.faa\n",
            "Sequence type: Protein\n",
            "Keep MBits: T\n",
            "Maximum file size: 1000000000B\n",
            "Adding sequences from FASTA; added 28546 sequences in 0.767358 seconds.\n",
            "\n",
            "\n",
            "Building a new DB, current time: 05/30/2023 21:18:35\n",
            "New DB name:   /content/ciliate.proteins\n",
            "New DB title:  ciliate.faa\n",
            "Sequence type: Protein\n",
            "Keep MBits: T\n",
            "Maximum file size: 1000000000B\n",
            "Adding sequences from FASTA; added 26996 sequences in 0.851076 seconds.\n",
            "\n",
            "\n",
            "Building a new DB, current time: 05/30/2023 21:18:36\n",
            "New DB name:   /content/drosophila.proteins\n",
            "New DB title:  drosophila.faa\n",
            "Sequence type: Protein\n",
            "Keep MBits: T\n",
            "Maximum file size: 1000000000B\n",
            "Adding sequences from FASTA; added 30799 sequences in 0.939682 seconds.\n",
            "\n",
            "\n",
            "Building a new DB, current time: 05/30/2023 21:18:37\n",
            "New DB name:   /content/e.coli.proteins\n",
            "New DB title:  e.coli.faa\n",
            "Sequence type: Protein\n",
            "Keep MBits: T\n",
            "Maximum file size: 1000000000B\n",
            "Adding sequences from FASTA; added 4298 sequences in 0.120672 seconds.\n",
            "\n",
            "\n",
            "Building a new DB, current time: 05/30/2023 21:18:38\n",
            "New DB name:   /content/human.proteins\n",
            "New DB title:  human.faa\n",
            "Sequence type: Protein\n",
            "Keep MBits: T\n",
            "Maximum file size: 1000000000B\n",
            "Adding sequences from FASTA; added 136193 sequences in 5.28367 seconds.\n",
            "\n",
            "\n",
            "Building a new DB, current time: 05/30/2023 21:18:43\n",
            "New DB name:   /content/methanocaldococcus.proteins\n",
            "New DB title:  methanocaldococcus.faa\n",
            "Sequence type: Protein\n",
            "Keep MBits: T\n",
            "Maximum file size: 1000000000B\n",
            "Adding sequences from FASTA; added 1595 sequences in 0.038027 seconds.\n",
            "\n",
            "\n",
            "Building a new DB, current time: 05/30/2023 21:18:43\n",
            "New DB name:   /content/mouse.proteins\n",
            "New DB title:  mouse.faa\n",
            "Sequence type: Protein\n",
            "Keep MBits: T\n",
            "Maximum file size: 1000000000B\n",
            "Adding sequences from FASTA; added 96192 sequences in 3.05409 seconds.\n",
            "\n",
            "\n",
            "Building a new DB, current time: 05/30/2023 21:18:46\n",
            "New DB name:   /content/thermococcus.proteins\n",
            "New DB title:  thermococcus.faa\n",
            "Sequence type: Protein\n",
            "Keep MBits: T\n",
            "Maximum file size: 1000000000B\n",
            "Adding sequences from FASTA; added 2284 sequences in 0.0570769 seconds.\n",
            "\n",
            "\n",
            "Building a new DB, current time: 05/30/2023 21:18:46\n",
            "New DB name:   /content/tuberculosis.proteins\n",
            "New DB title:  tuberculosis.faa\n",
            "Sequence type: Protein\n",
            "Keep MBits: T\n",
            "Maximum file size: 1000000000B\n",
            "Adding sequences from FASTA; added 3906 sequences in 0.0936749 seconds.\n",
            "\n",
            "\n",
            "Building a new DB, current time: 05/30/2023 21:18:47\n",
            "New DB name:   /content/yeast.proteins\n",
            "New DB title:  yeast.faa\n",
            "Sequence type: Protein\n",
            "Keep MBits: T\n",
            "Maximum file size: 1000000000B\n",
            "Adding sequences from FASTA; added 6017 sequences in 0.18002 seconds.\n",
            "\n",
            "\n",
            "Building a new DB, current time: 05/30/2023 21:18:47\n",
            "New DB name:   /content/zebrafish.proteins\n",
            "New DB title:  zebrafish.faa\n",
            "Sequence type: Protein\n",
            "Keep MBits: T\n",
            "Maximum file size: 1000000000B\n",
            "Adding sequences from FASTA; added 52829 sequences in 1.62769 seconds.\n"
          ]
        }
      ]
    },
    {
      "cell_type": "code",
      "source": [
        "!blastp  -query H2A_one_gene.fasta  -db c.elegans.proteins -outfmt 7  >  gene_H2A_c.elegans.txt\n",
        "!blastp  -query H2A_one_gene.fasta  -db ciliate.proteins -outfmt 7  >  gene_H2A_ciliate.txt\n",
        "!blastp  -query H2A_one_gene.fasta  -db drosophila.proteins  -outfmt 7  >  gene_H2A_drosophila.txt\n",
        "!blastp  -query H2A_one_gene.fasta  -db e.coli.proteins -outfmt 7  >  gene_H2A_e.coli.txt\n",
        "!blastp  -query H2A_one_gene.fasta  -db human.proteins -outfmt 7  >  gene_H2A_human.txt\n",
        "!blastp  -query H2A_one_gene.fasta  -db methanocaldococcus.proteins  -outfmt 7  >  gene_H2A_methanocaldococcus.txt\n",
        "!blastp  -query H2A_one_gene.fasta  -db mouse.proteins  -outfmt 7  >  gene_H2A_mouse.txt\n",
        "!blastp  -query H2A_one_gene.fasta  -db thermococcus.proteins  -outfmt 7  >  gene_H2A_thermococcus.txt\n",
        "!blastp  -query H2A_one_gene.fasta  -db tuberculosis.proteins  -outfmt 7  >  gene_H2A_tuberculosis.txt\n",
        "!blastp  -query H2A_one_gene.fasta  -db yeast.proteins  -outfmt 7  >  gene_H2A_yeast.txt\n",
        "!blastp  -query H2A_one_gene.fasta  -db zebrafish.proteins  -outfmt 7  >  gene_H2A_zebrafish.txt"
      ],
      "metadata": {
        "id": "t_V8paNwJDeK"
      },
      "execution_count": 8,
      "outputs": []
    },
    {
      "cell_type": "code",
      "source": [
        "!blastp  -query H2B_one_gene.fasta  -db c.elegans.proteins   -outfmt 6  >  gene_H2B_c.elegans.txt\n",
        "!blastp  -query H2B_one_gene.fasta  -db ciliate.proteins   -outfmt 6  >  gene_H2B_ciliate.txt\n",
        "!blastp  -query H2B_one_gene.fasta  -db drosophila.proteins   -outfmt 6  >  gene_H2B_drosophila.txt\n",
        "!blastp  -query H2B_one_gene.fasta  -db e.coli.proteins   -outfmt 6  >  gene_H2B_e.coli.txt\n",
        "!blastp  -query H2B_one_gene.fasta  -db human.proteins   -outfmt 6  >  gene_H2B_human.txt\n",
        "!blastp  -query H2B_one_gene.fasta  -db methanocaldococcus.proteins  -outfmt 6  >  gene_H2B_methanocaldococcus.txt\n",
        "!blastp  -query H2B_one_gene.fasta  -db mouse.proteins   -outfmt 6  >  gene_H2B_mouse.txt\n",
        "!blastp  -query H2B_one_gene.fasta  -db thermococcus.proteins  -outfmt 6  >  gene_H2B_thermococcus.txt\n",
        "!blastp  -query H2B_one_gene.fasta  -db tuberculosis.proteins  -outfmt 6  >  gene_H2B_tuberculosis.txt\n",
        "!blastp  -query H2B_one_gene.fasta  -db yeast.proteins   -outfmt 6  >  gene_H2B_yeast.txt\n",
        "!blastp  -query H2B_one_gene.fasta  -db zebrafish.proteins  -outfmt 6  >  gene_H2B_zebrafish.txt"
      ],
      "metadata": {
        "id": "hDmWyXR1fJe5"
      },
      "execution_count": 9,
      "outputs": []
    },
    {
      "cell_type": "code",
      "source": [
        "!blastp  -query H3_one_gene.fasta  -db c.elegans.proteins  -evalue 1e-10  -outfmt 6  >  gene_H3_c.elegans.txt\n",
        "!blastp  -query H3_one_gene.fasta  -db ciliate.proteins  -evalue 1e-10  -outfmt 6  >  gene_H3_ciliate.txt\n",
        "!blastp  -query H3_one_gene.fasta  -db drosophila.proteins  -evalue 1e-10  -outfmt 6  >  gene_H3_drosophila.txt\n",
        "!blastp  -query H3_one_gene.fasta  -db e.coli.proteins  -evalue 1e-10  -outfmt 6  >  gene_H3_e.coli.txt\n",
        "!blastp  -query H3_one_gene.fasta  -db human.proteins  -evalue 1e-10  -outfmt 6  >  gene_H3_human.txt\n",
        "!blastp  -query H3_one_gene.fasta  -db methanocaldococcus.proteins  -outfmt 6  >  gene_H3_methanocaldococcus.txt\n",
        "!blastp  -query H3_one_gene.fasta  -db mouse.proteins   -outfmt 6  >  gene_H3_mouse.txt\n",
        "!blastp  -query H3_one_gene.fasta  -db thermococcus.proteins  -outfmt 6  >  gene_H3_thermococcus.txt\n",
        "!blastp  -query H3_one_gene.fasta  -db tuberculosis.proteins  -outfmt 6  >  gene_H3_tuberculosis.txt\n",
        "!blastp  -query H3_one_gene.fasta  -db yeast.proteins  -evalue 1e-10  -outfmt 6  >  gene_H3_yeast.txt\n",
        "!blastp  -query H3_one_gene.fasta  -db zebrafish.proteins  -evalue 1e-10  -outfmt 6  >  gene_H3_zebrafish.txt"
      ],
      "metadata": {
        "id": "OjB0gz30fM1t"
      },
      "execution_count": 10,
      "outputs": []
    },
    {
      "cell_type": "code",
      "source": [
        "!blastp  -query H4_one_gene.fasta  -db c.elegans.proteins  -evalue 1e-10  -outfmt 6  >  gene_H4_c.elegans.txt\n",
        "!blastp  -query H4_one_gene.fasta  -db ciliate.proteins  -evalue 1e-10  -outfmt 6  >  gene_H4_ciliate.txt\n",
        "!blastp  -query H4_one_gene.fasta  -db drosophila.proteins  -evalue 1e-10  -outfmt 6  >  gene_H4_drosophila.txt\n",
        "!blastp  -query H4_one_gene.fasta  -db e.coli.proteins  -evalue 1e-10  -outfmt 6  >  gene_H4_e.coli.txt\n",
        "!blastp  -query H4_one_gene.fasta  -db human.proteins  -evalue 1e-10  -outfmt 6  >  gene_H4_human.txt\n",
        "!blastp  -query H4_one_gene.fasta  -db methanocaldococcus.proteins  -outfmt 6  >  gene_H4_methanocaldococcus.txt\n",
        "!blastp  -query H4_one_gene.fasta  -db mouse.proteins   -outfmt 6  >  gene_H4_mouse.txt\n",
        "!blastp  -query H4_one_gene.fasta  -db thermococcus.proteins  -outfmt 6  >  gene_H4_thermococcus.txt\n",
        "!blastp  -query H4_one_gene.fasta  -db tuberculosis.proteins  -outfmt 6  >  gene_H4_tuberculosis.txt\n",
        "!blastp  -query H4_one_gene.fasta  -db yeast.proteins  -evalue 1e-10  -outfmt 6  >  gene_H4_yeast.txt\n",
        "!blastp  -query H4_one_gene.fasta  -db zebrafish.proteins  -evalue 1e-10  -outfmt 6  >  gene_H4_zebrafish.txt"
      ],
      "metadata": {
        "id": "RH_Sut2YfPqe"
      },
      "execution_count": 11,
      "outputs": []
    },
    {
      "cell_type": "code",
      "source": [
        "!blastp  -query ASH1L_one_gene.fasta  -db c.elegans.proteins  -evalue 1e-10  -outfmt 6  >  gene_ASH1L_c.elegans.txt\n",
        "!blastp  -query ASH1L_one_gene.fasta  -db ciliate.proteins  -evalue 1e-10  -outfmt 6  >  gene_ASH1L_ciliate.txt\n",
        "!blastp  -query ASH1L_one_gene.fasta  -db drosophila.proteins  -evalue 1e-10  -outfmt 6  >  gene_ASH1L_drosophila.txt\n",
        "!blastp  -query ASH1L_one_gene.fasta  -db e.coli.proteins  -evalue 1e-10  -outfmt 6  >  gene_ASH1L_e.coli.txt\n",
        "!blastp  -query ASH1L_one_gene.fasta  -db human.proteins  -evalue 1e-10  -outfmt 6  >  gene_ASH1L_human.txt\n",
        "!blastp  -query ASH1L_one_gene.fasta  -db methanocaldococcus.proteins  -outfmt 6  >  gene_ASH1L_methanocaldococcus.txt\n",
        "!blastp  -query ASH1L_one_gene.fasta  -db mouse.proteins   -outfmt 6  >  gene_ASH1L_mouse.txt\n",
        "!blastp  -query ASH1L_one_gene.fasta  -db thermococcus.proteins  -outfmt 6  >  gene_ASH1L_thermococcus.txt\n",
        "!blastp  -query ASH1L_one_gene.fasta  -db tuberculosis.proteins  -outfmt 6  >  gene_ASH1L_tuberculosis.txt\n",
        "!blastp  -query ASH1L_one_gene.fasta  -db yeast.proteins  -evalue 1e-10  -outfmt 6  >  gene_ASH1L_yeast.txt\n",
        "!blastp  -query ASH1L_one_gene.fasta  -db zebrafish.proteins  -evalue 1e-10  -outfmt 6  >  gene_ASH1L_zebrafish.txt"
      ],
      "metadata": {
        "id": "iDxC6eXtfk3w"
      },
      "execution_count": 12,
      "outputs": []
    },
    {
      "cell_type": "code",
      "source": [
        "import os\n",
        "import pandas\n",
        "import numpy as np"
      ],
      "metadata": {
        "id": "oOnm198jiipf"
      },
      "execution_count": 13,
      "outputs": []
    },
    {
      "cell_type": "code",
      "source": [
        "!cat gene_ASH1L_c.elegans.txt"
      ],
      "metadata": {
        "colab": {
          "base_uri": "https://localhost:8080/"
        },
        "id": "_TlGeTddiJyJ",
        "outputId": "7fb013b6-b675-4f74-b174-b83531b78303"
      },
      "execution_count": 14,
      "outputs": [
        {
          "output_type": "stream",
          "name": "stdout",
          "text": [
            "NP_001353106.1\tNP_491206.1\t32.653\t294\t148\t11\t2581\t2827\t963\t1253\t9.70e-38\t156\n",
            "NP_001353106.1\tNP_491206.1\t31.280\t211\t124\t7\t2084\t2290\t583\t776\t4.40e-23\t108\n",
            "NP_001353106.1\tNP_491340.2\t37.255\t204\t110\t9\t2092\t2287\t637\t830\t5.33e-32\t137\n",
            "NP_001353106.1\tNP_871842.2\t37.255\t204\t110\t9\t2092\t2287\t623\t816\t6.07e-32\t137\n",
            "NP_001353106.1\tNP_741320.1\t35.096\t208\t106\t10\t2093\t2281\t36\t233\t4.63e-22\t97.8\n",
            "NP_001353106.1\tNP_509306.2\t33.163\t196\t115\t8\t2094\t2285\t53\t236\t2.06e-21\t99.4\n",
            "NP_001353106.1\tNP_741321.1\t37.778\t135\t74\t3\t2155\t2281\t16\t148\t5.45e-21\t92.0\n",
            "NP_001353106.1\tNP_506333.1\t28.458\t253\t147\t11\t2057\t2285\t445\t687\t4.90e-19\t95.1\n",
            "NP_001353106.1\tNP_498041.1\t34.783\t138\t83\t4\t2151\t2285\t606\t739\t1.59e-18\t92.8\n",
            "NP_001353106.1\tNP_498039.1\t34.783\t138\t83\t4\t2151\t2285\t1377\t1510\t1.84e-18\t93.6\n",
            "NP_001353106.1\tNP_498040.1\t34.783\t138\t83\t4\t2151\t2285\t1374\t1507\t1.89e-18\t93.6\n",
            "NP_001353106.1\tNP_499819.3\t34.722\t144\t91\t1\t2140\t2280\t2327\t2470\t1.36e-16\t87.4\n",
            "NP_001353106.1\tNP_499738.3\t27.136\t199\t110\t5\t2115\t2284\t519\t711\t5.70e-15\t81.3\n",
            "NP_001353106.1\tNP_496992.3\t39.815\t108\t63\t2\t2156\t2262\t632\t738\t1.89e-14\t79.7\n",
            "NP_001353106.1\tNP_001021008.1\t32.283\t127\t86\t0\t2699\t2825\t1014\t1140\t5.04e-14\t79.0\n",
            "NP_001353106.1\tNP_001364763.1\t30.120\t166\t95\t7\t2129\t2281\t112\t269\t2.85e-12\t70.1\n"
          ]
        }
      ]
    },
    {
      "cell_type": "code",
      "source": [
        "d = {\n",
        "    'H2A': {},\n",
        "    'H2B': {},\n",
        "    'H3': {},\n",
        "    'H4': {},\n",
        "    'ASH1L': {},\n",
        "}\n",
        "\n",
        "names = ['c1', 'c2', 'c3', 'c4', 'c5', 'c6', 'c7', 'c8', 'c9', 'c10', 'evalue', 'c11']\n",
        "histones = ['H2A', 'H2B', 'H3', 'H4', 'ASH1L']\n",
        "\n",
        "for files in os.listdir('/content/'):\n",
        "    if not files.endswith('txt'):\n",
        "        continue\n",
        "\n",
        "    _, histone, organism = os.path.splitext(files)[0].split('_')\n",
        "    data = pandas.read_csv(files, sep='\\t', header=None, names=names)\n",
        "    evalue = data['evalue'].min()\n",
        "    if pandas.isna(evalue):\n",
        "      evalue = 1\n",
        "    evalue = max(evalue, 1e-300)\n",
        "    d[histone.upper()][organism.upper()] = evalue\n",
        "\n",
        "df = pandas.DataFrame(d).transpose()\n",
        "df"
      ],
      "metadata": {
        "colab": {
          "base_uri": "https://localhost:8080/",
          "height": 214
        },
        "id": "AOAZJl8JgOXg",
        "outputId": "025cb619-9e72-4382-997f-f840ab0ed699"
      },
      "execution_count": 24,
      "outputs": [
        {
          "output_type": "execute_result",
          "data": {
            "text/plain": [
              "          C.ELEGANS  METHANOCALDOCOCCUS          MOUSE          HUMAN  \\\n",
              "H2A    9.210000e-66            0.000491   3.800000e-89   2.070000e-89   \n",
              "H2B    5.980000e-66            1.700000   1.950000e-88   2.780000e-88   \n",
              "H3     4.460000e-94            0.034000   1.540000e-96   2.190000e-96   \n",
              "H4     6.150000e-68            0.000082   7.600000e-68   1.090000e-67   \n",
              "ASH1L  9.700000e-38            0.360000  1.000000e-300  1.000000e-300   \n",
              "\n",
              "       THERMOCOCCUS         YEAST     DROSOPHILA  TUBERCULOSIS  E.COLI  \\\n",
              "H2A        0.003000  1.820000e-63   2.890000e-68         0.450     1.3   \n",
              "H2B        1.200000  1.010000e-60   2.750000e-60         2.300     1.6   \n",
              "H3         0.057000  3.310000e-87   9.390000e-96         4.600     1.0   \n",
              "H4         0.000033  1.080000e-52   8.020000e-68         0.069     1.0   \n",
              "ASH1L      0.067000  4.190000e-39  1.000000e-300         7.800     1.0   \n",
              "\n",
              "            CILIATE      ZEBRAFISH  \n",
              "H2A    2.970000e-57   5.780000e-82  \n",
              "H2B    4.620000e-51   1.860000e-83  \n",
              "H3     8.410000e-86   1.770000e-95  \n",
              "H4     1.960000e-45   1.130000e-68  \n",
              "ASH1L  2.540000e-34  1.000000e-300  "
            ],
            "text/html": [
              "\n",
              "  <div id=\"df-ce105ddb-5fce-4a52-ad0a-f19ec4f71c33\">\n",
              "    <div class=\"colab-df-container\">\n",
              "      <div>\n",
              "<style scoped>\n",
              "    .dataframe tbody tr th:only-of-type {\n",
              "        vertical-align: middle;\n",
              "    }\n",
              "\n",
              "    .dataframe tbody tr th {\n",
              "        vertical-align: top;\n",
              "    }\n",
              "\n",
              "    .dataframe thead th {\n",
              "        text-align: right;\n",
              "    }\n",
              "</style>\n",
              "<table border=\"1\" class=\"dataframe\">\n",
              "  <thead>\n",
              "    <tr style=\"text-align: right;\">\n",
              "      <th></th>\n",
              "      <th>C.ELEGANS</th>\n",
              "      <th>METHANOCALDOCOCCUS</th>\n",
              "      <th>MOUSE</th>\n",
              "      <th>HUMAN</th>\n",
              "      <th>THERMOCOCCUS</th>\n",
              "      <th>YEAST</th>\n",
              "      <th>DROSOPHILA</th>\n",
              "      <th>TUBERCULOSIS</th>\n",
              "      <th>E.COLI</th>\n",
              "      <th>CILIATE</th>\n",
              "      <th>ZEBRAFISH</th>\n",
              "    </tr>\n",
              "  </thead>\n",
              "  <tbody>\n",
              "    <tr>\n",
              "      <th>H2A</th>\n",
              "      <td>9.210000e-66</td>\n",
              "      <td>0.000491</td>\n",
              "      <td>3.800000e-89</td>\n",
              "      <td>2.070000e-89</td>\n",
              "      <td>0.003000</td>\n",
              "      <td>1.820000e-63</td>\n",
              "      <td>2.890000e-68</td>\n",
              "      <td>0.450</td>\n",
              "      <td>1.3</td>\n",
              "      <td>2.970000e-57</td>\n",
              "      <td>5.780000e-82</td>\n",
              "    </tr>\n",
              "    <tr>\n",
              "      <th>H2B</th>\n",
              "      <td>5.980000e-66</td>\n",
              "      <td>1.700000</td>\n",
              "      <td>1.950000e-88</td>\n",
              "      <td>2.780000e-88</td>\n",
              "      <td>1.200000</td>\n",
              "      <td>1.010000e-60</td>\n",
              "      <td>2.750000e-60</td>\n",
              "      <td>2.300</td>\n",
              "      <td>1.6</td>\n",
              "      <td>4.620000e-51</td>\n",
              "      <td>1.860000e-83</td>\n",
              "    </tr>\n",
              "    <tr>\n",
              "      <th>H3</th>\n",
              "      <td>4.460000e-94</td>\n",
              "      <td>0.034000</td>\n",
              "      <td>1.540000e-96</td>\n",
              "      <td>2.190000e-96</td>\n",
              "      <td>0.057000</td>\n",
              "      <td>3.310000e-87</td>\n",
              "      <td>9.390000e-96</td>\n",
              "      <td>4.600</td>\n",
              "      <td>1.0</td>\n",
              "      <td>8.410000e-86</td>\n",
              "      <td>1.770000e-95</td>\n",
              "    </tr>\n",
              "    <tr>\n",
              "      <th>H4</th>\n",
              "      <td>6.150000e-68</td>\n",
              "      <td>0.000082</td>\n",
              "      <td>7.600000e-68</td>\n",
              "      <td>1.090000e-67</td>\n",
              "      <td>0.000033</td>\n",
              "      <td>1.080000e-52</td>\n",
              "      <td>8.020000e-68</td>\n",
              "      <td>0.069</td>\n",
              "      <td>1.0</td>\n",
              "      <td>1.960000e-45</td>\n",
              "      <td>1.130000e-68</td>\n",
              "    </tr>\n",
              "    <tr>\n",
              "      <th>ASH1L</th>\n",
              "      <td>9.700000e-38</td>\n",
              "      <td>0.360000</td>\n",
              "      <td>1.000000e-300</td>\n",
              "      <td>1.000000e-300</td>\n",
              "      <td>0.067000</td>\n",
              "      <td>4.190000e-39</td>\n",
              "      <td>1.000000e-300</td>\n",
              "      <td>7.800</td>\n",
              "      <td>1.0</td>\n",
              "      <td>2.540000e-34</td>\n",
              "      <td>1.000000e-300</td>\n",
              "    </tr>\n",
              "  </tbody>\n",
              "</table>\n",
              "</div>\n",
              "      <button class=\"colab-df-convert\" onclick=\"convertToInteractive('df-ce105ddb-5fce-4a52-ad0a-f19ec4f71c33')\"\n",
              "              title=\"Convert this dataframe to an interactive table.\"\n",
              "              style=\"display:none;\">\n",
              "        \n",
              "  <svg xmlns=\"http://www.w3.org/2000/svg\" height=\"24px\"viewBox=\"0 0 24 24\"\n",
              "       width=\"24px\">\n",
              "    <path d=\"M0 0h24v24H0V0z\" fill=\"none\"/>\n",
              "    <path d=\"M18.56 5.44l.94 2.06.94-2.06 2.06-.94-2.06-.94-.94-2.06-.94 2.06-2.06.94zm-11 1L8.5 8.5l.94-2.06 2.06-.94-2.06-.94L8.5 2.5l-.94 2.06-2.06.94zm10 10l.94 2.06.94-2.06 2.06-.94-2.06-.94-.94-2.06-.94 2.06-2.06.94z\"/><path d=\"M17.41 7.96l-1.37-1.37c-.4-.4-.92-.59-1.43-.59-.52 0-1.04.2-1.43.59L10.3 9.45l-7.72 7.72c-.78.78-.78 2.05 0 2.83L4 21.41c.39.39.9.59 1.41.59.51 0 1.02-.2 1.41-.59l7.78-7.78 2.81-2.81c.8-.78.8-2.07 0-2.86zM5.41 20L4 18.59l7.72-7.72 1.47 1.35L5.41 20z\"/>\n",
              "  </svg>\n",
              "      </button>\n",
              "      \n",
              "  <style>\n",
              "    .colab-df-container {\n",
              "      display:flex;\n",
              "      flex-wrap:wrap;\n",
              "      gap: 12px;\n",
              "    }\n",
              "\n",
              "    .colab-df-convert {\n",
              "      background-color: #E8F0FE;\n",
              "      border: none;\n",
              "      border-radius: 50%;\n",
              "      cursor: pointer;\n",
              "      display: none;\n",
              "      fill: #1967D2;\n",
              "      height: 32px;\n",
              "      padding: 0 0 0 0;\n",
              "      width: 32px;\n",
              "    }\n",
              "\n",
              "    .colab-df-convert:hover {\n",
              "      background-color: #E2EBFA;\n",
              "      box-shadow: 0px 1px 2px rgba(60, 64, 67, 0.3), 0px 1px 3px 1px rgba(60, 64, 67, 0.15);\n",
              "      fill: #174EA6;\n",
              "    }\n",
              "\n",
              "    [theme=dark] .colab-df-convert {\n",
              "      background-color: #3B4455;\n",
              "      fill: #D2E3FC;\n",
              "    }\n",
              "\n",
              "    [theme=dark] .colab-df-convert:hover {\n",
              "      background-color: #434B5C;\n",
              "      box-shadow: 0px 1px 3px 1px rgba(0, 0, 0, 0.15);\n",
              "      filter: drop-shadow(0px 1px 2px rgba(0, 0, 0, 0.3));\n",
              "      fill: #FFFFFF;\n",
              "    }\n",
              "  </style>\n",
              "\n",
              "      <script>\n",
              "        const buttonEl =\n",
              "          document.querySelector('#df-ce105ddb-5fce-4a52-ad0a-f19ec4f71c33 button.colab-df-convert');\n",
              "        buttonEl.style.display =\n",
              "          google.colab.kernel.accessAllowed ? 'block' : 'none';\n",
              "\n",
              "        async function convertToInteractive(key) {\n",
              "          const element = document.querySelector('#df-ce105ddb-5fce-4a52-ad0a-f19ec4f71c33');\n",
              "          const dataTable =\n",
              "            await google.colab.kernel.invokeFunction('convertToInteractive',\n",
              "                                                     [key], {});\n",
              "          if (!dataTable) return;\n",
              "\n",
              "          const docLinkHtml = 'Like what you see? Visit the ' +\n",
              "            '<a target=\"_blank\" href=https://colab.research.google.com/notebooks/data_table.ipynb>data table notebook</a>'\n",
              "            + ' to learn more about interactive tables.';\n",
              "          element.innerHTML = '';\n",
              "          dataTable['output_type'] = 'display_data';\n",
              "          await google.colab.output.renderOutput(dataTable, element);\n",
              "          const docLink = document.createElement('div');\n",
              "          docLink.innerHTML = docLinkHtml;\n",
              "          element.appendChild(docLink);\n",
              "        }\n",
              "      </script>\n",
              "    </div>\n",
              "  </div>\n",
              "  "
            ]
          },
          "metadata": {},
          "execution_count": 24
        }
      ]
    },
    {
      "cell_type": "markdown",
      "source": [
        "# Тепловая карта"
      ],
      "metadata": {
        "id": "3xmIQje5mFMd"
      }
    },
    {
      "cell_type": "code",
      "source": [
        "import seaborn as sns\n",
        "import matplotlib.pyplot as plt"
      ],
      "metadata": {
        "id": "Y03KWiebnsbi"
      },
      "execution_count": 25,
      "outputs": []
    },
    {
      "cell_type": "code",
      "source": [
        "sns.heatmap(-np.log(df), fmt=list)\n",
        "\n",
        "plt.show()"
      ],
      "metadata": {
        "colab": {
          "base_uri": "https://localhost:8080/",
          "height": 594
        },
        "id": "V8OTGM4SmEVR",
        "outputId": "15ab5a6e-8b52-40b0-cc25-164f7d8df9e1"
      },
      "execution_count": 27,
      "outputs": [
        {
          "output_type": "display_data",
          "data": {
            "text/plain": [
              "<Figure size 640x480 with 2 Axes>"
            ],
            "image/png": "[encoded data removed]"
          },
          "metadata": {}
        }
      ]
    }
  ]
}